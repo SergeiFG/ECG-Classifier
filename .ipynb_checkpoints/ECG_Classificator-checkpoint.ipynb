{
 "cells": [
  {
   "cell_type": "code",
   "execution_count": 27,
   "id": "91bf9025-63ea-40b6-8d9a-a7ea57c65fee",
   "metadata": {},
   "outputs": [],
   "source": [
    "import pandas as pd\n",
    "import ast\n",
    "pd.set_option('display.max_columns', None)"
   ]
  },
  {
   "cell_type": "code",
   "execution_count": 14,
   "id": "b36053b3-4a1b-4884-be31-81ad54206fa2",
   "metadata": {
    "scrolled": true
   },
   "outputs": [],
   "source": [
    "meta_df = pd.read_csv('ptbxl_database.csv', index_col=0)\n",
    "scp_df = pd.read_csv('scp_statements.csv')"
   ]
  },
  {
   "cell_type": "code",
   "execution_count": 18,
   "id": "b82af7df-e4fb-440c-8f2c-594a3f832084",
   "metadata": {},
   "outputs": [],
   "source": [
    "meta_df = meta_df[['scp_codes', 'strat_fold', 'filename_lr']]\n",
    "scp_df = scp_df[scp_df.diagnostic == 1]"
   ]
  },
  {
   "cell_type": "code",
   "execution_count": 23,
   "id": "cb189b8c-3c85-434f-9282-2471f8337ee6",
   "metadata": {},
   "outputs": [],
   "source": [
    "diagnose_set = set(scp_df['Unnamed: 0'])"
   ]
  },
  {
   "cell_type": "code",
   "execution_count": 26,
   "id": "82f732cf-91c5-4351-9c81-3308cd6b0ea7",
   "metadata": {},
   "outputs": [
    {
     "data": {
      "text/plain": [
       "ecg_id\n",
       "1                 {'NORM': 100.0, 'LVOLT': 0.0, 'SR': 0.0}\n",
       "2                             {'NORM': 80.0, 'SBRAD': 0.0}\n",
       "3                               {'NORM': 100.0, 'SR': 0.0}\n",
       "4                               {'NORM': 100.0, 'SR': 0.0}\n",
       "5                               {'NORM': 100.0, 'SR': 0.0}\n",
       "                               ...                        \n",
       "21833    {'NDT': 100.0, 'PVC': 100.0, 'VCLVH': 0.0, 'ST...\n",
       "21834             {'NORM': 100.0, 'ABQRS': 0.0, 'SR': 0.0}\n",
       "21835                           {'ISCAS': 50.0, 'SR': 0.0}\n",
       "21836                           {'NORM': 100.0, 'SR': 0.0}\n",
       "21837                           {'NORM': 100.0, 'SR': 0.0}\n",
       "Name: scp_codes, Length: 21837, dtype: object"
      ]
     },
     "execution_count": 26,
     "metadata": {},
     "output_type": "execute_result"
    }
   ],
   "source": [
    "meta_df['scp_codes']"
   ]
  },
  {
   "cell_type": "code",
   "execution_count": 28,
   "id": "5850045a-ccfc-460a-8d09-aa9dfe37b971",
   "metadata": {},
   "outputs": [],
   "source": [
    "test = meta_df.scp_codes.apply(lambda x: ast.literal_eval(x))"
   ]
  },
  {
   "cell_type": "code",
   "execution_count": 31,
   "id": "48aa82af-ba76-4f5c-8e7e-f29b07bad795",
   "metadata": {},
   "outputs": [],
   "source": [
    "aa = test.iloc[1]"
   ]
  },
  {
   "cell_type": "code",
   "execution_count": 32,
   "id": "3ffae761-b2a8-41ab-8d5e-e9002fa65ad7",
   "metadata": {},
   "outputs": [
    {
     "data": {
      "text/plain": [
       "dict"
      ]
     },
     "execution_count": 32,
     "metadata": {},
     "output_type": "execute_result"
    }
   ],
   "source": [
    "type(aa)"
   ]
  },
  {
   "cell_type": "code",
   "execution_count": 33,
   "id": "0c31b5b5-02be-4a0e-8027-e4eb2d7ff308",
   "metadata": {},
   "outputs": [],
   "source": [
    "bb = meta_df['scp_codes'].iloc[1]"
   ]
  },
  {
   "cell_type": "code",
   "execution_count": 35,
   "id": "c2a90dfc-ebdb-4a7f-9778-6fe9ba10aed2",
   "metadata": {},
   "outputs": [
    {
     "data": {
      "text/plain": [
       "str"
      ]
     },
     "execution_count": 35,
     "metadata": {},
     "output_type": "execute_result"
    }
   ],
   "source": [
    "type(bb)"
   ]
  },
  {
   "cell_type": "code",
   "execution_count": 37,
   "id": "f9bf5c5b-d1ef-46b9-8a26-7df8a4936c71",
   "metadata": {},
   "outputs": [
    {
     "data": {
      "text/plain": [
       "dict_keys(['NORM', 'SBRAD'])"
      ]
     },
     "execution_count": 37,
     "metadata": {},
     "output_type": "execute_result"
    }
   ],
   "source": [
    "aa.keys()"
   ]
  },
  {
   "cell_type": "code",
   "execution_count": null,
   "id": "0259c5a9-522b-4814-8e37-f2d299fb85be",
   "metadata": {},
   "outputs": [],
   "source": []
  }
 ],
 "metadata": {
  "kernelspec": {
   "display_name": "Python 3 (ipykernel)",
   "language": "python",
   "name": "python3"
  },
  "language_info": {
   "codemirror_mode": {
    "name": "ipython",
    "version": 3
   },
   "file_extension": ".py",
   "mimetype": "text/x-python",
   "name": "python",
   "nbconvert_exporter": "python",
   "pygments_lexer": "ipython3",
   "version": "3.10.7"
  }
 },
 "nbformat": 4,
 "nbformat_minor": 5
}
